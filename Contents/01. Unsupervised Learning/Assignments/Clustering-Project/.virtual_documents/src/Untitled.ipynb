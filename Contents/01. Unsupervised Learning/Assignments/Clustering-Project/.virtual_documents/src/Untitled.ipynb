


# Data Manipulation
import numpy as np
import pandas as pd

# Visualization and Image Processing
import matplotlib.pyplot as plt
import seaborn as sns
import cv2

# Machine Learning
from sklearn.cluster import KMeans
from sklearn.decomposition import PCA
from sklearn.metrics.cluster import rand_score

# for loading/processing the images  
from keras.utils import load_img
from keras.utils import img_to_array
from keras.applications.vgg16 import preprocess_input 

# models 
from keras.applications.vgg16 import VGG16 
from keras.models import Model

# Others
import os 
import random





os.getcwd()



